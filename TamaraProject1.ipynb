{
 "cells": [
  {
   "cell_type": "markdown",
   "metadata": {},
   "source": [
    "<img src=\"http://imgur.com/1ZcRyrc.png\" style=\"float: left; margin: 20px; height: 55px\">\n",
    "\n",
    "# Project 1: Python Coding Exercises\n",
    "\n",
    "_Authors: Joseph Nelson (DC)_\n",
    "\n",
    "---"
   ]
  },
  {
   "cell_type": "markdown",
   "metadata": {},
   "source": [
    "The following code challenges are drawn from common exercises used in technical interviews.\n",
    "\n",
    "Please note that there may be several ways to approach each challenge. If you get stuck, try mapping out your approach in pseudocode first. Finally, while solutions to problems like these may be found online, remember that if you copy/paste code that you can't explain, you'll be missing out on the point of the project. The only way to truly learn a new skill is through practice, trial, and error - we can only help you improve by understanding where you are having trouble."
   ]
  },
  {
   "cell_type": "markdown",
   "metadata": {},
   "source": [
    "### Challenge 1: Largest Palindrome\n",
    "A palindromic number reads the same both ways. For example, 1234321 is a palindrome. The largest palindrome made from the product of two two-digit numbers is 9009 = 91 × 99. Find the largest palindrome made from the product of two three-digit numbers. Afterward, write a brief explanation walking through your code's logic in markdown."
   ]
  },
  {
   "cell_type": "code",
   "execution_count": 85,
   "metadata": {},
   "outputs": [
    {
     "name": "stdout",
     "output_type": "stream",
     "text": [
      "906609\n"
     ]
    }
   ],
   "source": [
    "def is_palindrome(num):\n",
    "    palindrome = True\n",
    "    for i in range(0,len(num)):\n",
    "        if num[i] != num[-1-i]:\n",
    "            palindrome = False\n",
    "            return palindrome\n",
    "    return palindrome\n",
    "\n",
    "def largest_palindrome(num_min, num_max):\n",
    "     \n",
    "    all_palindrome =[]\n",
    "    for num1 in range (num_min, num_max + 1):  \n",
    "        for num2 in range(num1, num_max + 1):\n",
    "            if is_palindrome(str(num1*num2)) == True:\n",
    "                all_palindrome.insert(0,num1*num2)\n",
    "    all_palindrome.sort()\n",
    "    print(all_palindrome[-1])\n",
    "    \n",
    "        \n",
    "\n",
    "largest_palindrome(100,999)"
   ]
  },
  {
   "cell_type": "markdown",
   "metadata": {},
   "source": [
    "I first created a function that tested if a number is a palindrome or not. \n",
    "Then I created a function that would determine all the multiples for all three digit numbers and test if they are palindromes. If they are, they got added to a list and at the very end the list was sorted and only the largest value (at index -1) was printed. \n",
    "\n"
   ]
  },
  {
   "cell_type": "markdown",
   "metadata": {},
   "source": [
    "\n",
    "### Challenge 2: Summation of Primes\n",
    "The sum of the primes below 10 is 2 + 3 + 5 + 7 = 17. Find the sum of all the primes below 2,000. Afterward, write a brief explanation walking through your code's logic in markdown."
   ]
  },
  {
   "cell_type": "code",
   "execution_count": 3,
   "metadata": {},
   "outputs": [
    {
     "name": "stdout",
     "output_type": "stream",
     "text": [
      "1060\n"
     ]
    }
   ],
   "source": [
    "primes = []\n",
    "def check_prime(num):\n",
    "    is_prime = True\n",
    "    for prime in primes:\n",
    "        if num % prime == 0:\n",
    "            is_prime = False\n",
    "    return is_prime\n",
    "  \n",
    "def add_primes (num_min, num_max):\n",
    "    for int in range(2, num_max):    \n",
    "        if check_prime(int) == True:\n",
    "            primes.insert(0,int)\n",
    "    return(primes)\n",
    "\n",
    "def sum_primes (num_min, num_max):\n",
    "    sum = 0\n",
    "    products = add_primes(num_min,num_max)\n",
    "    for product in products:\n",
    "        sum = sum + product\n",
    "    print (sum)\n",
    "    \n",
    "sum_primes(0,100)"
   ]
  },
  {
   "cell_type": "markdown",
   "metadata": {},
   "source": [
    "first I created an empty list so all definitions can work off the same list. Check_prime was defined in order to determine if a number is prime. This was done by determining if it could be divided by any smaller intergers that are also prime numbers (divide by each number within the prime list). The add_primes function is used to add any prime numbers to the primes list. Finally the sum_primes function uses both add_primes and check_prime to add all prime numbers to a list and then adds all the values of the list."
   ]
  },
  {
   "cell_type": "markdown",
   "metadata": {},
   "source": [
    "### Challenge 3: Multiples of 3 and 5\n",
    "If we list all of the natural numbers below 10 that are multiples of 3 or 5, we get 3, 5, 6, and 9. The sum of these multiples is 23. Find the sum of all the multiples of 3 and 5 below 1,000. Afterward, write a brief explanation walking through your code's logic in markdown."
   ]
  },
  {
   "cell_type": "code",
   "execution_count": 4,
   "metadata": {},
   "outputs": [
    {
     "name": "stdout",
     "output_type": "stream",
     "text": [
      "233168\n"
     ]
    }
   ],
   "source": [
    "answers= []\n",
    "for num in range (0,1000):\n",
    "    if num%3 == 0 or num% 5 ==0:\n",
    "        answers.insert(0,num)\n",
    "\n",
    "sum = 0\n",
    "for answer in answers:\n",
    "    sum = sum + answer\n",
    "    \n",
    "print (sum)\n",
    "        "
   ]
  },
  {
   "cell_type": "markdown",
   "metadata": {},
   "source": [
    "first i created an empty list, then I tested all numbers from 0 to 1000 to see if there were divisible by either 3 or 5. If the number was divisible by either integer, the number was added to a list. Then all numbers within the list were added together to give the final answer"
   ]
  },
  {
   "cell_type": "markdown",
   "metadata": {},
   "source": [
    "### Challenge 4: String Compressor\n",
    "Implement a method to perform basic string compression using the counts of repeated characters. (This is called run-length encoding.) For example, the string \"aabcccccaaa\" would become a2b1c5a3. If the “compressed” string would not become smaller than the original string, your method should return the original string. You can assume the string has only uppercase and lowercase letters (a–z). Specify whether your solution is case sensitive or case insensitive and what you would need to change to make it the other. Afterward, write a brief explanation walking through your code's logic in markdown."
   ]
  },
  {
   "cell_type": "code",
   "execution_count": 92,
   "metadata": {},
   "outputs": [
    {
     "name": "stdout",
     "output_type": "stream",
     "text": [
      "a2bc5a3\n"
     ]
    }
   ],
   "source": [
    "def str_compressor (word):\n",
    "    new_string = ''\n",
    "    total = 1\n",
    "    for i in range (0,len(word)):\n",
    "        if i+1 < len(word):\n",
    "            if word[i] == word[i+1]:\n",
    "                total = total + 1\n",
    "            elif word[i] != word[i+1]:\n",
    "                if total < 2:\n",
    "                    new_string = new_string + word[i]\n",
    "                else:\n",
    "                    new_string = new_string + word[i] + str(total)\n",
    "                total = 1\n",
    "        else:\n",
    "            if total < 2:\n",
    "                new_string = new_string + word[i]\n",
    "            else:\n",
    "                new_string = new_string + word[i] + str(total)\n",
    "    return new_string\n",
    "\n",
    "print(str_compressor('aabcccccaaa'))"
   ]
  },
  {
   "cell_type": "markdown",
   "metadata": {},
   "source": [
    "The above code is case sensitive. It checks each letter of the string to the next letter. If they are identical, the value of total is increase by one. This occurs until the next letter is no longer the same. Once this occurs, the letter is printed with the number of iterations over one. If it just happens once, no number is added. This is only tested as long as there is a letter to follow the one being tested"
   ]
  },
  {
   "cell_type": "code",
   "execution_count": 94,
   "metadata": {},
   "outputs": [
    {
     "name": "stdout",
     "output_type": "stream",
     "text": [
      "abc2d\n"
     ]
    }
   ],
   "source": [
    "def str_compressor (word):\n",
    "    new_string = ''\n",
    "    lower_case = word.lower()\n",
    "    total = 1\n",
    "    for i in range (0,len(word)):\n",
    "        if i+1 < len(word):\n",
    "            if lower_case[i] == lower_case[i+1]:\n",
    "                total = total + 1\n",
    "            else:\n",
    "                if total < 2:\n",
    "                    new_string = new_string + word[i]\n",
    "                else:\n",
    "                    new_string = new_string + lower_case[i] + str(total)\n",
    "                total = 1\n",
    "        else:\n",
    "            if total < 2:\n",
    "                new_string = new_string + lower_case[i]\n",
    "            else:\n",
    "                new_string = new_string + lower_case[i] + str(total)\n",
    "    return new_string\n",
    "\n",
    "print(str_compressor('abcCd'))"
   ]
  },
  {
   "cell_type": "markdown",
   "metadata": {},
   "source": [
    "This code is similar to the previous one, but a lower case version of the word is created to make it not case sensitive. The final string is returned in lower case. It could be returned in all upper case letters by changing the word.lower to word.upper instead"
   ]
  },
  {
   "cell_type": "markdown",
   "metadata": {},
   "source": [
    "### *BONUS* Challenge: FizzBuzz\n",
    "Write a program that prints all of the numbers from 1 to 100. For multiples of 3, instead of the number, print \"Fizz;\" for multiples of 5, print \"Buzz.\" For numbers that are multiples of both 3 and 5, print \"FizzBuzz.\" Afterward, write a brief explanation walking through your code's logic in markdown."
   ]
  },
  {
   "cell_type": "code",
   "execution_count": 90,
   "metadata": {
    "scrolled": true
   },
   "outputs": [
    {
     "name": "stdout",
     "output_type": "stream",
     "text": [
      "1\n",
      "2\n",
      "Fizz\n",
      "4\n",
      "Buzz\n",
      "Fizz\n",
      "7\n",
      "8\n",
      "Fizz\n",
      "Buzz\n",
      "11\n",
      "Fizz\n",
      "13\n",
      "14\n",
      "FizzBuzz\n",
      "16\n",
      "17\n",
      "Fizz\n",
      "19\n",
      "Buzz\n",
      "Fizz\n",
      "22\n",
      "23\n",
      "Fizz\n",
      "Buzz\n",
      "26\n",
      "Fizz\n",
      "28\n",
      "29\n",
      "FizzBuzz\n",
      "31\n",
      "32\n",
      "Fizz\n",
      "34\n",
      "Buzz\n",
      "Fizz\n",
      "37\n",
      "38\n",
      "Fizz\n",
      "Buzz\n",
      "41\n",
      "Fizz\n",
      "43\n",
      "44\n",
      "FizzBuzz\n",
      "46\n",
      "47\n",
      "Fizz\n",
      "49\n",
      "Buzz\n",
      "Fizz\n",
      "52\n",
      "53\n",
      "Fizz\n",
      "Buzz\n",
      "56\n",
      "Fizz\n",
      "58\n",
      "59\n",
      "FizzBuzz\n",
      "61\n",
      "62\n",
      "Fizz\n",
      "64\n",
      "Buzz\n",
      "Fizz\n",
      "67\n",
      "68\n",
      "Fizz\n",
      "Buzz\n",
      "71\n",
      "Fizz\n",
      "73\n",
      "74\n",
      "FizzBuzz\n",
      "76\n",
      "77\n",
      "Fizz\n",
      "79\n",
      "Buzz\n",
      "Fizz\n",
      "82\n",
      "83\n",
      "Fizz\n",
      "Buzz\n",
      "86\n",
      "Fizz\n",
      "88\n",
      "89\n",
      "FizzBuzz\n",
      "91\n",
      "92\n",
      "Fizz\n",
      "94\n",
      "Buzz\n",
      "Fizz\n",
      "97\n",
      "98\n",
      "Fizz\n",
      "Buzz\n"
     ]
    }
   ],
   "source": [
    "for num in range (1,101):\n",
    "    if num % 3 == 0 and num % 5 == 0:\n",
    "        print (\"FizzBuzz\")\n",
    "    elif num % 3 == 0:\n",
    "        print(\"Fizz\")\n",
    "    elif num% 5 == 0:\n",
    "        print(\"Buzz\")\n",
    "    else:\n",
    "        print(num)"
   ]
  },
  {
   "cell_type": "markdown",
   "metadata": {},
   "source": [
    "first I tested if the number is divisible by both 3 and 5. If true, \"FizzBuzz\" would be printed. If not, it would be determined if the number is divisible by 3. If true, \"Fizz\" would be printed. If false, it would be determined if the number was divisible by 5 or not. If yes, \"Buzz\" was printed and if not, the number would be printed."
   ]
  }
 ],
 "metadata": {
  "anaconda-cloud": {},
  "kernelspec": {
   "display_name": "Python 3",
   "language": "python",
   "name": "python3"
  },
  "language_info": {
   "codemirror_mode": {
    "name": "ipython",
    "version": 3
   },
   "file_extension": ".py",
   "mimetype": "text/x-python",
   "name": "python",
   "nbconvert_exporter": "python",
   "pygments_lexer": "ipython3",
   "version": "3.6.5"
  }
 },
 "nbformat": 4,
 "nbformat_minor": 2
}
